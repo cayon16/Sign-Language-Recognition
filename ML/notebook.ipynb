{
 "cells": [
  {
   "cell_type": "code",
   "execution_count": 1,
   "id": "8eec3db3",
   "metadata": {
    "execution": {
     "iopub.execute_input": "2025-04-26T00:45:35.821870Z",
     "iopub.status.busy": "2025-04-26T00:45:35.821542Z",
     "iopub.status.idle": "2025-04-26T00:45:40.991448Z",
     "shell.execute_reply": "2025-04-26T00:45:40.990596Z"
    },
    "papermill": {
     "duration": 5.175144,
     "end_time": "2025-04-26T00:45:40.993002",
     "exception": false,
     "start_time": "2025-04-26T00:45:35.817858",
     "status": "completed"
    },
    "tags": []
   },
   "outputs": [],
   "source": [
    "import pickle\n",
    "import numpy as np\n",
    "import torch\n",
    "import torch.nn as nn\n",
    "from torch.utils.data import TensorDataset, DataLoader, random_split\n",
    "from sklearn.model_selection import train_test_split\n",
    "from sklearn.metrics import accuracy_score\n",
    "from sklearn.preprocessing import LabelEncoder"
   ]
  },
  {
   "cell_type": "code",
   "execution_count": 2,
   "id": "a35f3d4a",
   "metadata": {
    "execution": {
     "iopub.execute_input": "2025-04-26T00:45:40.998402Z",
     "iopub.status.busy": "2025-04-26T00:45:40.998079Z",
     "iopub.status.idle": "2025-04-26T00:45:42.232649Z",
     "shell.execute_reply": "2025-04-26T00:45:42.232078Z"
    },
    "papermill": {
     "duration": 1.238619,
     "end_time": "2025-04-26T00:45:42.234006",
     "exception": false,
     "start_time": "2025-04-26T00:45:40.995387",
     "status": "completed"
    },
    "tags": []
   },
   "outputs": [],
   "source": [
    "data_dict = pickle.load(open(\"/kaggle/input/asl-data/new_data.pickle\", 'rb'))"
   ]
  },
  {
   "cell_type": "code",
   "execution_count": 3,
   "id": "05ec858c",
   "metadata": {
    "execution": {
     "iopub.execute_input": "2025-04-26T00:45:42.239588Z",
     "iopub.status.busy": "2025-04-26T00:45:42.238874Z",
     "iopub.status.idle": "2025-04-26T00:45:42.242225Z",
     "shell.execute_reply": "2025-04-26T00:45:42.241727Z"
    },
    "papermill": {
     "duration": 0.007,
     "end_time": "2025-04-26T00:45:42.243227",
     "exception": false,
     "start_time": "2025-04-26T00:45:42.236227",
     "status": "completed"
    },
    "tags": []
   },
   "outputs": [],
   "source": [
    "expected_length = 42\n",
    "filtered_data = []\n",
    "filtered_labels = []"
   ]
  },
  {
   "cell_type": "code",
   "execution_count": 4,
   "id": "c17f9a6c",
   "metadata": {
    "execution": {
     "iopub.execute_input": "2025-04-26T00:45:42.247638Z",
     "iopub.status.busy": "2025-04-26T00:45:42.247423Z",
     "iopub.status.idle": "2025-04-26T00:45:42.595750Z",
     "shell.execute_reply": "2025-04-26T00:45:42.594961Z"
    },
    "papermill": {
     "duration": 0.352084,
     "end_time": "2025-04-26T00:45:42.597205",
     "exception": false,
     "start_time": "2025-04-26T00:45:42.245121",
     "status": "completed"
    },
    "tags": []
   },
   "outputs": [],
   "source": [
    "for sample, label in zip(data_dict['data'], data_dict['labels']):\n",
    "    if len(sample) == expected_length:\n",
    "        filtered_data.append(sample)\n",
    "        filtered_labels.append(label)\n",
    "\n",
    "data = np.asarray(filtered_data, dtype=np.float32)\n",
    "label_encoder = LabelEncoder()\n",
    "encoded_labels = label_encoder.fit_transform(filtered_labels)\n",
    "\n",
    "labels = np.asarray(encoded_labels, dtype=np.int64)"
   ]
  },
  {
   "cell_type": "code",
   "execution_count": 5,
   "id": "9701a9e2",
   "metadata": {
    "execution": {
     "iopub.execute_input": "2025-04-26T00:45:42.602391Z",
     "iopub.status.busy": "2025-04-26T00:45:42.602125Z",
     "iopub.status.idle": "2025-04-26T00:45:42.658801Z",
     "shell.execute_reply": "2025-04-26T00:45:42.658198Z"
    },
    "papermill": {
     "duration": 0.060792,
     "end_time": "2025-04-26T00:45:42.660187",
     "exception": false,
     "start_time": "2025-04-26T00:45:42.599395",
     "status": "completed"
    },
    "tags": []
   },
   "outputs": [],
   "source": [
    "x_train, x_test, y_train, y_test = train_test_split(\n",
    "    data, labels, test_size=0.2, shuffle=True, stratify=labels\n",
    ")"
   ]
  },
  {
   "cell_type": "code",
   "execution_count": 6,
   "id": "c0619bcb",
   "metadata": {
    "execution": {
     "iopub.execute_input": "2025-04-26T00:45:42.665338Z",
     "iopub.status.busy": "2025-04-26T00:45:42.664767Z",
     "iopub.status.idle": "2025-04-26T00:45:42.701012Z",
     "shell.execute_reply": "2025-04-26T00:45:42.700238Z"
    },
    "papermill": {
     "duration": 0.040056,
     "end_time": "2025-04-26T00:45:42.702376",
     "exception": false,
     "start_time": "2025-04-26T00:45:42.662320",
     "status": "completed"
    },
    "tags": []
   },
   "outputs": [],
   "source": [
    "# Convert to PyTorch tensors\n",
    "x_train_tensor = torch.tensor(x_train)\n",
    "y_train_tensor = torch.tensor(y_train)\n",
    "x_test_tensor = torch.tensor(x_test)\n",
    "y_test_tensor = torch.tensor(y_test)"
   ]
  },
  {
   "cell_type": "code",
   "execution_count": 7,
   "id": "59f08d71",
   "metadata": {
    "execution": {
     "iopub.execute_input": "2025-04-26T00:45:42.707574Z",
     "iopub.status.busy": "2025-04-26T00:45:42.706978Z",
     "iopub.status.idle": "2025-04-26T00:45:42.713837Z",
     "shell.execute_reply": "2025-04-26T00:45:42.713335Z"
    },
    "papermill": {
     "duration": 0.010369,
     "end_time": "2025-04-26T00:45:42.714857",
     "exception": false,
     "start_time": "2025-04-26T00:45:42.704488",
     "status": "completed"
    },
    "tags": []
   },
   "outputs": [],
   "source": [
    "# Create datasets and dataloaders\n",
    "train_dataset = TensorDataset(x_train_tensor, y_train_tensor)\n",
    "test_dataset = TensorDataset(x_test_tensor, y_test_tensor)\n",
    "train_loader = DataLoader(train_dataset, batch_size=32, shuffle=True)\n",
    "test_loader = DataLoader(test_dataset, batch_size=32)"
   ]
  },
  {
   "cell_type": "code",
   "execution_count": 8,
   "id": "c4d87f0f",
   "metadata": {
    "execution": {
     "iopub.execute_input": "2025-04-26T00:45:42.720379Z",
     "iopub.status.busy": "2025-04-26T00:45:42.720167Z",
     "iopub.status.idle": "2025-04-26T00:45:42.724707Z",
     "shell.execute_reply": "2025-04-26T00:45:42.724188Z"
    },
    "papermill": {
     "duration": 0.007906,
     "end_time": "2025-04-26T00:45:42.725699",
     "exception": false,
     "start_time": "2025-04-26T00:45:42.717793",
     "status": "completed"
    },
    "tags": []
   },
   "outputs": [],
   "source": [
    "class FCNN(nn.Module):\n",
    "    def __init__(self, input_size, num_classes):\n",
    "        super(FCNN, self).__init__()\n",
    "        self.fc1 = nn.Linear(input_size, 64)\n",
    "        self.relu1 = nn.ReLU()\n",
    "        self.fc2 = nn.Linear(64, 32)\n",
    "        self.relu2 = nn.ReLU()\n",
    "        self.fc3 = nn.Linear(32, num_classes)\n",
    "    \n",
    "    def forward(self, x):\n",
    "        out = self.relu1(self.fc1(x))\n",
    "        out = self.relu2(self.fc2(out))\n",
    "        out = self.fc3(out)\n",
    "        return out"
   ]
  },
  {
   "cell_type": "code",
   "execution_count": 9,
   "id": "285c8b3f",
   "metadata": {
    "execution": {
     "iopub.execute_input": "2025-04-26T00:45:42.730306Z",
     "iopub.status.busy": "2025-04-26T00:45:42.729740Z",
     "iopub.status.idle": "2025-04-26T00:45:46.968149Z",
     "shell.execute_reply": "2025-04-26T00:45:46.967581Z"
    },
    "papermill": {
     "duration": 4.241885,
     "end_time": "2025-04-26T00:45:46.969403",
     "exception": false,
     "start_time": "2025-04-26T00:45:42.727518",
     "status": "completed"
    },
    "tags": []
   },
   "outputs": [],
   "source": [
    "input_size = expected_length\n",
    "num_classes = len(set(labels))\n",
    "model = FCNN(input_size, num_classes)\n",
    "loss_fn = nn.CrossEntropyLoss()\n",
    "optimizer = torch.optim.Adam(model.parameters(), lr=0.001)"
   ]
  },
  {
   "cell_type": "code",
   "execution_count": 10,
   "id": "e458a8a4",
   "metadata": {
    "execution": {
     "iopub.execute_input": "2025-04-26T00:45:46.974203Z",
     "iopub.status.busy": "2025-04-26T00:45:46.973877Z",
     "iopub.status.idle": "2025-04-26T00:53:46.741874Z",
     "shell.execute_reply": "2025-04-26T00:53:46.741072Z"
    },
    "papermill": {
     "duration": 479.773456,
     "end_time": "2025-04-26T00:53:46.744889",
     "exception": false,
     "start_time": "2025-04-26T00:45:46.971433",
     "status": "completed"
    },
    "tags": []
   },
   "outputs": [
    {
     "name": "stdout",
     "output_type": "stream",
     "text": [
      "99.01% of samples were classified correctly!\n"
     ]
    }
   ],
   "source": [
    "# Training loop\n",
    "epochs = 100\n",
    "for epoch in range(epochs):\n",
    "    model.train()\n",
    "    for xb, yb in train_loader:\n",
    "        preds = model(xb)\n",
    "        loss = loss_fn(preds, yb)\n",
    "        optimizer.zero_grad()\n",
    "        loss.backward()\n",
    "        optimizer.step()\n",
    "\n",
    "# Evaluation\n",
    "model.eval()\n",
    "with torch.no_grad():\n",
    "    y_preds = []\n",
    "    for xb, _ in test_loader:\n",
    "        preds = model(xb)\n",
    "        y_preds.extend(preds.argmax(dim=1).numpy())\n",
    "\n",
    "score = accuracy_score(y_preds, y_test)\n",
    "print(f'{score * 100:.2f}% of samples were classified correctly!')\n",
    "\n",
    "# Save the model\n",
    "with open('model_fcnn.p', 'wb') as f:\n",
    "    pickle.dump({'model': model.state_dict(), 'input_size': input_size, 'num_classes': num_classes}, f)\n"
   ]
  }
 ],
 "metadata": {
  "kaggle": {
   "accelerator": "gpu",
   "dataSources": [
    {
     "datasetId": 7251687,
     "sourceId": 11565892,
     "sourceType": "datasetVersion"
    }
   ],
   "dockerImageVersionId": 31011,
   "isGpuEnabled": true,
   "isInternetEnabled": true,
   "language": "python",
   "sourceType": "notebook"
  },
  "kernelspec": {
   "display_name": "Python 3",
   "language": "python",
   "name": "python3"
  },
  "language_info": {
   "codemirror_mode": {
    "name": "ipython",
    "version": 3
   },
   "file_extension": ".py",
   "mimetype": "text/x-python",
   "name": "python",
   "nbconvert_exporter": "python",
   "pygments_lexer": "ipython3",
   "version": "3.11.11"
  },
  "papermill": {
   "default_parameters": {},
   "duration": 497.473091,
   "end_time": "2025-04-26T00:53:49.148238",
   "environment_variables": {},
   "exception": null,
   "input_path": "__notebook__.ipynb",
   "output_path": "__notebook__.ipynb",
   "parameters": {},
   "start_time": "2025-04-26T00:45:31.675147",
   "version": "2.6.0"
  }
 },
 "nbformat": 4,
 "nbformat_minor": 5
}
